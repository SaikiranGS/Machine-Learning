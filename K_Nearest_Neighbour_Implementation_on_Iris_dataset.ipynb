{
 "cells": [
  {
   "cell_type": "markdown",
   "metadata": {},
   "source": [
    "# ImplementK-NearestNeighbor(KNN)\n"
   ]
  },
  {
   "cell_type": "markdown",
   "metadata": {},
   "source": [
    "Read the content from the file."
   ]
  },
  {
   "cell_type": "code",
   "execution_count": 163,
   "metadata": {
    "collapsed": true
   },
   "outputs": [],
   "source": [
    "import numpy as np\n",
    "import pandas as pd\n",
    "import matplotlib.pyplot as plt\n",
    "from sklearn.tree import DecisionTreeClassifier\n",
    "from sklearn.neighbors import KNeighborsClassifier\n",
    "from sklearn.neighbors import KDTree\n",
    "from sklearn.model_selection import GridSearchCV\n",
    "from sklearn.model_selection import cross_val_score\n",
    "from sklearn.metrics import accuracy_score\n",
    "import csv\n",
    "import operator\n",
    "\n",
    "#function used to get the content from text file.\n",
    "def getdata(filename):\n",
    "    with open(filename) as f:\n",
    "        reader = csv.reader(f)\n",
    "        return list(reader)"
   ]
  },
  {
   "cell_type": "markdown",
   "metadata": {},
   "source": [
    "random shuffling the data and Dividing the data to training and testing datasets"
   ]
  },
  {
   "cell_type": "code",
   "execution_count": 170,
   "metadata": {
    "collapsed": true
   },
   "outputs": [],
   "source": [
    "#random train test data split function definition\n",
    "def shuffle(data):\n",
    "    np.random.seed(2)\n",
    "    np.random.shuffle(data)\n",
    "    train_data = data[:int(0.7*len(data))]\n",
    "    test_data = data[int(0.7*len(data)):]\n",
    "    return train_data, test_data"
   ]
  },
  {
   "cell_type": "code",
   "execution_count": 171,
   "metadata": {
    "collapsed": true
   },
   "outputs": [],
   "source": [
    "#random train test data split function definition\n",
    "def shuffle1(data):\n",
    "    np.random.seed(1)\n",
    "    np.random.shuffle(data)\n",
    "    train_data = data[:int(0.7*len(data))]\n",
    "    test_data = data[int(0.7*len(data)):]\n",
    "    return train_data, test_data"
   ]
  },
  {
   "cell_type": "markdown",
   "metadata": {},
   "source": [
    "Function to calculate the euclidean distance"
   ]
  },
  {
   "cell_type": "code",
   "execution_count": 172,
   "metadata": {
    "collapsed": true
   },
   "outputs": [],
   "source": [
    "def euclideanDist(x, y):\n",
    "    d = 0.0\n",
    "    for i in range(len(x)-1):\n",
    "        d += pow((float(x[i])-float(y[i])),2)  #euclidean distance\n",
    "    d = np.sqrt(d)\n",
    "    return d"
   ]
  },
  {
   "cell_type": "markdown",
   "metadata": {},
   "source": [
    "Function for finding the nearest neighbour and then predicting the classifier sets based on the value of votings."
   ]
  },
  {
   "cell_type": "code",
   "execution_count": 173,
   "metadata": {
    "collapsed": true
   },
   "outputs": [],
   "source": [
    "#KNN prediction and model training\n",
    "def knn_predict(test_data, train_data, k_value):\n",
    "    for i in test_data:\n",
    "        eu_Distance =[]\n",
    "        knn = []\n",
    "        #votes\n",
    "        setosa = 0\n",
    "        virginica = 0\n",
    "        versicolor = 0\n",
    "        for j in train_data:\n",
    "            eu_dist = euclideanDist(i, j)\n",
    "            eu_Distance.append((j[4], eu_dist))\n",
    "            eu_Distance.sort(key = operator.itemgetter(1))\n",
    "            knn = eu_Distance[:k_value]\n",
    "            #print(knn)\n",
    "            for k in knn:\n",
    "                if k[0] =='Iris-setosa':\n",
    "                    setosa += 1\n",
    "                elif k[0] =='Iris-virginica':\n",
    "                    virginica +=1\n",
    "                else:\n",
    "                    versicolor +=1\n",
    "       \n",
    "        if setosa > virginica & setosa > versicolor :\n",
    "            i.append('Iris-setosa')\n",
    "        elif virginica > setosa & virginica > versicolor :\n",
    "            i.append('Iris-virginica')\n",
    "        else:\n",
    "            i.append('Iris-versicolor')"
   ]
  },
  {
   "cell_type": "markdown",
   "metadata": {},
   "source": [
    "Defining the function to find accuracy. if the prediction is similar to the iris class then we increment the value and the final divide the total correct values with the size of test data to get the accuracy rate. This function is used to calculate the quality of predicted values."
   ]
  },
  {
   "cell_type": "code",
   "execution_count": 174,
   "metadata": {
    "collapsed": true
   },
   "outputs": [],
   "source": [
    "def accuracy(test_data):\n",
    "    correct = 0\n",
    "    for i in test_data:\n",
    "        if i[4] == i[5]:\n",
    "            correct += 1\n",
    "    accuracy = float(correct)/len(test_data)  #accuracy \n",
    "    return accuracy"
   ]
  },
  {
   "cell_type": "markdown",
   "metadata": {},
   "source": [
    "loading the dta from text file and passing the data to defined function to find the accuracy. I have chosen the neighbour value as 10 and found the accuracy to be 0.733."
   ]
  },
  {
   "cell_type": "code",
   "execution_count": 175,
   "metadata": {},
   "outputs": [
    {
     "name": "stdout",
     "output_type": "stream",
     "text": [
      "[['5.1', '3.4', '1.5', '0.2', 'Iris-setosa', 'Iris-setosa'], ['5.0', '3.3', '1.4', '0.2', 'Iris-setosa', 'Iris-setosa'], ['5.7', '2.6', '3.5', '1.0', 'Iris-versicolor', 'Iris-versicolor'], ['6.9', '3.1', '5.4', '2.1', 'Iris-virginica', 'Iris-versicolor'], ['5.5', '2.6', '4.4', '1.2', 'Iris-versicolor', 'Iris-versicolor'], ['6.3', '2.8', '5.1', '1.5', 'Iris-virginica', 'Iris-versicolor'], ['7.0', '3.2', '4.7', '1.4', 'Iris-versicolor', 'Iris-versicolor'], ['6.8', '2.8', '4.8', '1.4', 'Iris-versicolor', 'Iris-versicolor'], ['6.5', '3.2', '5.1', '2.0', 'Iris-virginica', 'Iris-versicolor'], ['6.9', '3.1', '4.9', '1.5', 'Iris-versicolor', 'Iris-versicolor'], ['5.5', '2.4', '3.8', '1.1', 'Iris-versicolor', 'Iris-versicolor'], ['5.6', '3.0', '4.5', '1.5', 'Iris-versicolor', 'Iris-versicolor'], ['6.0', '3.0', '4.8', '1.8', 'Iris-virginica', 'Iris-versicolor'], ['6.0', '2.7', '5.1', '1.6', 'Iris-versicolor', 'Iris-versicolor'], ['5.8', '2.7', '5.1', '1.9', 'Iris-virginica', 'Iris-versicolor'], ['5.9', '3.2', '4.8', '1.8', 'Iris-versicolor', 'Iris-versicolor'], ['5.1', '3.8', '1.6', '0.2', 'Iris-setosa', 'Iris-setosa'], ['6.2', '2.2', '4.5', '1.5', 'Iris-versicolor', 'Iris-versicolor'], ['5.6', '3.0', '4.1', '1.3', 'Iris-versicolor', 'Iris-versicolor'], ['5.6', '2.5', '3.9', '1.1', 'Iris-versicolor', 'Iris-versicolor'], ['5.8', '2.7', '4.1', '1.0', 'Iris-versicolor', 'Iris-versicolor'], ['6.4', '3.1', '5.5', '1.8', 'Iris-virginica', 'Iris-versicolor'], ['6.6', '2.9', '4.6', '1.3', 'Iris-versicolor', 'Iris-versicolor'], ['5.5', '4.2', '1.4', '0.2', 'Iris-setosa', 'Iris-setosa'], ['4.4', '3.0', '1.3', '0.2', 'Iris-setosa', 'Iris-setosa'], ['6.3', '2.9', '5.6', '1.8', 'Iris-virginica', 'Iris-versicolor'], ['6.4', '3.2', '4.5', '1.5', 'Iris-versicolor', 'Iris-versicolor'], ['7.3', '2.9', '6.3', '1.8', 'Iris-virginica', 'Iris-versicolor'], ['5.0', '3.6', '1.4', '0.2', 'Iris-setosa', 'Iris-setosa'], ['7.1', '3.0', '5.9', '2.1', 'Iris-virginica', 'Iris-versicolor'], ['4.9', '3.1', '1.5', '0.1', 'Iris-setosa', 'Iris-setosa'], ['6.5', '3.0', '5.5', '1.8', 'Iris-virginica', 'Iris-versicolor'], ['6.7', '3.3', '5.7', '2.1', 'Iris-virginica', 'Iris-versicolor'], ['5.4', '3.4', '1.5', '0.4', 'Iris-setosa', 'Iris-setosa'], ['6.1', '2.9', '4.7', '1.4', 'Iris-versicolor', 'Iris-versicolor'], ['4.6', '3.2', '1.4', '0.2', 'Iris-setosa', 'Iris-setosa'], ['6.7', '3.0', '5.2', '2.3', 'Iris-virginica', 'Iris-versicolor'], ['5.7', '3.0', '4.2', '1.2', 'Iris-versicolor', 'Iris-versicolor'], ['5.0', '3.4', '1.5', '0.2', 'Iris-setosa', 'Iris-setosa'], ['6.5', '3.0', '5.8', '2.2', 'Iris-virginica', 'Iris-virginica'], ['6.6', '3.0', '4.4', '1.4', 'Iris-versicolor', 'Iris-versicolor'], ['5.0', '3.5', '1.6', '0.6', 'Iris-setosa', 'Iris-setosa'], ['4.6', '3.6', '1.0', '0.2', 'Iris-setosa', 'Iris-setosa'], ['6.3', '2.5', '4.9', '1.5', 'Iris-versicolor', 'Iris-versicolor'], ['5.7', '4.4', '1.5', '0.4', 'Iris-setosa', 'Iris-setosa']]\n",
      "Accuracy :  0.733333333333\n"
     ]
    }
   ],
   "source": [
    "dataset = getdata('C:\\Users\\saikiran\\Desktop\\iris.txt')  \n",
    "train_dataset, test_dataset = shuffle(dataset) #train test data split\n",
    "K = 10                                         # Assumed K value\n",
    "knn_predict(test_dataset, train_dataset, K)   \n",
    "print (test_dataset)\n",
    "print \"Accuracy : \",accuracy(test_dataset)"
   ]
  },
  {
   "cell_type": "markdown",
   "metadata": {},
   "source": [
    "# Exercise-2\n"
   ]
  },
  {
   "cell_type": "markdown",
   "metadata": {},
   "source": [
    "Checking for optimal value of K.To check the optimal value i have shuffled my training data set to 70 % training and testing data and calculated the accuracy values for various K values as follows:"
   ]
  },
  {
   "cell_type": "code",
   "execution_count": 181,
   "metadata": {},
   "outputs": [
    {
     "name": "stdout",
     "output_type": "stream",
     "text": [
      "73\n",
      "32\n",
      "[['7.2', '3.6', '6.1', '2.5', 'Iris-virginica', 'Iris-versicolor'], ['7.6', '3.0', '6.6', '2.1', 'Iris-virginica', 'Iris-versicolor'], ['6.4', '3.2', '5.3', '2.3', 'Iris-virginica', 'Iris-versicolor'], ['5.8', '2.7', '5.1', '1.9', 'Iris-virginica', 'Iris-versicolor'], ['5.2', '2.7', '3.9', '1.4', 'Iris-versicolor', 'Iris-versicolor'], ['6.7', '2.5', '5.8', '1.8', 'Iris-virginica', 'Iris-versicolor'], ['5.9', '3.0', '5.1', '1.8', 'Iris-virginica', 'Iris-versicolor'], ['5.4', '3.9', '1.7', '0.4', 'Iris-setosa', 'Iris-versicolor'], ['5.7', '2.8', '4.5', '1.3', 'Iris-versicolor', 'Iris-versicolor'], ['5.0', '3.4', '1.6', '0.4', 'Iris-setosa', 'Iris-versicolor'], ['6.0', '3.4', '4.5', '1.6', 'Iris-versicolor', 'Iris-versicolor'], ['7.2', '3.2', '6.0', '1.8', 'Iris-virginica', 'Iris-versicolor'], ['5.1', '3.8', '1.9', '0.4', 'Iris-setosa', 'Iris-versicolor'], ['4.4', '3.2', '1.3', '0.2', 'Iris-setosa', 'Iris-versicolor'], ['5.0', '2.0', '3.5', '1.0', 'Iris-versicolor', 'Iris-versicolor'], ['6.7', '3.3', '5.7', '2.5', 'Iris-virginica', 'Iris-versicolor'], ['6.7', '3.0', '5.0', '1.7', 'Iris-versicolor', 'Iris-versicolor'], ['5.5', '3.5', '1.3', '0.2', 'Iris-setosa', 'Iris-versicolor'], ['4.7', '3.2', '1.6', '0.2', 'Iris-setosa', 'Iris-versicolor'], ['5.0', '3.0', '1.6', '0.2', 'Iris-setosa', 'Iris-versicolor'], ['5.8', '2.6', '4.0', '1.2', 'Iris-versicolor', 'Iris-versicolor'], ['6.7', '3.1', '4.7', '1.5', 'Iris-versicolor', 'Iris-versicolor'], ['4.6', '3.1', '1.5', '0.2', 'Iris-setosa', 'Iris-versicolor'], ['4.5', '2.3', '1.3', '0.3', 'Iris-setosa', 'Iris-versicolor'], ['7.7', '3.0', '6.1', '2.3', 'Iris-virginica', 'Iris-versicolor'], ['6.3', '3.3', '4.7', '1.6', 'Iris-versicolor', 'Iris-versicolor'], ['7.2', '3.0', '5.8', '1.6', 'Iris-virginica', 'Iris-versicolor'], ['5.9', '3.0', '4.2', '1.5', 'Iris-versicolor', 'Iris-versicolor'], ['4.8', '3.0', '1.4', '0.3', 'Iris-setosa', 'Iris-versicolor'], ['5.1', '2.5', '3.0', '1.1', 'Iris-versicolor', 'Iris-versicolor'], ['5.0', '3.2', '1.2', '0.2', 'Iris-setosa', 'Iris-versicolor'], ['6.1', '3.0', '4.6', '1.4', 'Iris-versicolor', 'Iris-versicolor']]\n",
      "Accuracy :  0.34375\n"
     ]
    }
   ],
   "source": [
    "#when k = 6\n",
    "dataset = getdata('C:\\Users\\saikiran\\Desktop\\iris.txt')  \n",
    "train_dataset, test_dataset = shuffle(dataset) #train test data split\n",
    "train_dataset1, test_dataset1 = shuffle1(train_dataset)\n",
    "print(len(train_dataset1))\n",
    "print(len(test_dataset1))\n",
    "K =6    # Assumed K value\n",
    "\n",
    "knn_predict(test_dataset1, train_dataset1, K) \n",
    "print (test_dataset1)\n",
    "print \"Accuracy : \",accuracy(test_dataset1)"
   ]
  },
  {
   "cell_type": "code",
   "execution_count": 182,
   "metadata": {},
   "outputs": [
    {
     "name": "stdout",
     "output_type": "stream",
     "text": [
      "73\n",
      "32\n",
      "[['7.2', '3.6', '6.1', '2.5', 'Iris-virginica', 'Iris-versicolor'], ['7.6', '3.0', '6.6', '2.1', 'Iris-virginica', 'Iris-versicolor'], ['6.4', '3.2', '5.3', '2.3', 'Iris-virginica', 'Iris-versicolor'], ['5.8', '2.7', '5.1', '1.9', 'Iris-virginica', 'Iris-versicolor'], ['5.2', '2.7', '3.9', '1.4', 'Iris-versicolor', 'Iris-versicolor'], ['6.7', '2.5', '5.8', '1.8', 'Iris-virginica', 'Iris-versicolor'], ['5.9', '3.0', '5.1', '1.8', 'Iris-virginica', 'Iris-versicolor'], ['5.4', '3.9', '1.7', '0.4', 'Iris-setosa', 'Iris-setosa'], ['5.7', '2.8', '4.5', '1.3', 'Iris-versicolor', 'Iris-versicolor'], ['5.0', '3.4', '1.6', '0.4', 'Iris-setosa', 'Iris-setosa'], ['6.0', '3.4', '4.5', '1.6', 'Iris-versicolor', 'Iris-versicolor'], ['7.2', '3.2', '6.0', '1.8', 'Iris-virginica', 'Iris-versicolor'], ['5.1', '3.8', '1.9', '0.4', 'Iris-setosa', 'Iris-setosa'], ['4.4', '3.2', '1.3', '0.2', 'Iris-setosa', 'Iris-setosa'], ['5.0', '2.0', '3.5', '1.0', 'Iris-versicolor', 'Iris-virginica'], ['6.7', '3.3', '5.7', '2.5', 'Iris-virginica', 'Iris-versicolor'], ['6.7', '3.0', '5.0', '1.7', 'Iris-versicolor', 'Iris-versicolor'], ['5.5', '3.5', '1.3', '0.2', 'Iris-setosa', 'Iris-setosa'], ['4.7', '3.2', '1.6', '0.2', 'Iris-setosa', 'Iris-setosa'], ['5.0', '3.0', '1.6', '0.2', 'Iris-setosa', 'Iris-setosa'], ['5.8', '2.6', '4.0', '1.2', 'Iris-versicolor', 'Iris-versicolor'], ['6.7', '3.1', '4.7', '1.5', 'Iris-versicolor', 'Iris-versicolor'], ['4.6', '3.1', '1.5', '0.2', 'Iris-setosa', 'Iris-setosa'], ['4.5', '2.3', '1.3', '0.3', 'Iris-setosa', 'Iris-setosa'], ['7.7', '3.0', '6.1', '2.3', 'Iris-virginica', 'Iris-versicolor'], ['6.3', '3.3', '4.7', '1.6', 'Iris-versicolor', 'Iris-versicolor'], ['7.2', '3.0', '5.8', '1.6', 'Iris-virginica', 'Iris-versicolor'], ['5.9', '3.0', '4.2', '1.5', 'Iris-versicolor', 'Iris-versicolor'], ['4.8', '3.0', '1.4', '0.3', 'Iris-setosa', 'Iris-setosa'], ['5.1', '2.5', '3.0', '1.1', 'Iris-versicolor', 'Iris-setosa'], ['5.0', '3.2', '1.2', '0.2', 'Iris-setosa', 'Iris-setosa'], ['6.1', '3.0', '4.6', '1.4', 'Iris-versicolor', 'Iris-versicolor']]\n",
      "Accuracy :  0.625\n"
     ]
    }
   ],
   "source": [
    "# when k =44\n",
    "dataset = getdata('C:\\Users\\saikiran\\Desktop\\iris.txt')  \n",
    "train_dataset, test_dataset = shuffle(dataset) #train test data split\n",
    "train_dataset1, test_dataset1 = shuffle1(train_dataset)\n",
    "print(len(train_dataset1))\n",
    "print(len(test_dataset1))\n",
    "K = 44   # Assumed K value\n",
    "\n",
    "knn_predict(test_dataset1, train_dataset1, K) \n",
    "print (test_dataset1)\n",
    "print \"Accuracy : \",accuracy(test_dataset1)"
   ]
  },
  {
   "cell_type": "code",
   "execution_count": 183,
   "metadata": {},
   "outputs": [
    {
     "name": "stdout",
     "output_type": "stream",
     "text": [
      "73\n",
      "32\n",
      "[['7.2', '3.6', '6.1', '2.5', 'Iris-virginica', 'Iris-versicolor'], ['7.6', '3.0', '6.6', '2.1', 'Iris-virginica', 'Iris-versicolor'], ['6.4', '3.2', '5.3', '2.3', 'Iris-virginica', 'Iris-versicolor'], ['5.8', '2.7', '5.1', '1.9', 'Iris-virginica', 'Iris-versicolor'], ['5.2', '2.7', '3.9', '1.4', 'Iris-versicolor', 'Iris-versicolor'], ['6.7', '2.5', '5.8', '1.8', 'Iris-virginica', 'Iris-versicolor'], ['5.9', '3.0', '5.1', '1.8', 'Iris-virginica', 'Iris-versicolor'], ['5.4', '3.9', '1.7', '0.4', 'Iris-setosa', 'Iris-setosa'], ['5.7', '2.8', '4.5', '1.3', 'Iris-versicolor', 'Iris-versicolor'], ['5.0', '3.4', '1.6', '0.4', 'Iris-setosa', 'Iris-setosa'], ['6.0', '3.4', '4.5', '1.6', 'Iris-versicolor', 'Iris-versicolor'], ['7.2', '3.2', '6.0', '1.8', 'Iris-virginica', 'Iris-versicolor'], ['5.1', '3.8', '1.9', '0.4', 'Iris-setosa', 'Iris-setosa'], ['4.4', '3.2', '1.3', '0.2', 'Iris-setosa', 'Iris-setosa'], ['5.0', '2.0', '3.5', '1.0', 'Iris-versicolor', 'Iris-versicolor'], ['6.7', '3.3', '5.7', '2.5', 'Iris-virginica', 'Iris-versicolor'], ['6.7', '3.0', '5.0', '1.7', 'Iris-versicolor', 'Iris-versicolor'], ['5.5', '3.5', '1.3', '0.2', 'Iris-setosa', 'Iris-setosa'], ['4.7', '3.2', '1.6', '0.2', 'Iris-setosa', 'Iris-setosa'], ['5.0', '3.0', '1.6', '0.2', 'Iris-setosa', 'Iris-setosa'], ['5.8', '2.6', '4.0', '1.2', 'Iris-versicolor', 'Iris-versicolor'], ['6.7', '3.1', '4.7', '1.5', 'Iris-versicolor', 'Iris-versicolor'], ['4.6', '3.1', '1.5', '0.2', 'Iris-setosa', 'Iris-setosa'], ['4.5', '2.3', '1.3', '0.3', 'Iris-setosa', 'Iris-setosa'], ['7.7', '3.0', '6.1', '2.3', 'Iris-virginica', 'Iris-versicolor'], ['6.3', '3.3', '4.7', '1.6', 'Iris-versicolor', 'Iris-versicolor'], ['7.2', '3.0', '5.8', '1.6', 'Iris-virginica', 'Iris-versicolor'], ['5.9', '3.0', '4.2', '1.5', 'Iris-versicolor', 'Iris-versicolor'], ['4.8', '3.0', '1.4', '0.3', 'Iris-setosa', 'Iris-setosa'], ['5.1', '2.5', '3.0', '1.1', 'Iris-versicolor', 'Iris-versicolor'], ['5.0', '3.2', '1.2', '0.2', 'Iris-setosa', 'Iris-setosa'], ['6.1', '3.0', '4.6', '1.4', 'Iris-versicolor', 'Iris-versicolor']]\n",
      "Accuracy :  0.6875\n"
     ]
    }
   ],
   "source": [
    "# when k = 8\n",
    "dataset = getdata('C:\\Users\\saikiran\\Desktop\\iris.txt') \n",
    "train_dataset, test_dataset = shuffle(dataset) #train test data split\n",
    "train_dataset1, test_dataset1 = shuffle1(train_dataset)\n",
    "print(len(train_dataset1))\n",
    "print(len(test_dataset1))\n",
    "K = 8   # Assumed K value\n",
    "\n",
    "knn_predict(test_dataset1, train_dataset1, K) \n",
    "print (test_dataset1)\n",
    "print \"Accuracy : \",accuracy(test_dataset1)"
   ]
  },
  {
   "cell_type": "code",
   "execution_count": 110,
   "metadata": {},
   "outputs": [
    {
     "name": "stdout",
     "output_type": "stream",
     "text": [
      "73\n",
      "32\n",
      "[['7.2', '3.6', '6.1', '2.5', 'Iris-virginica', 'Iris-versicolor'], ['7.6', '3.0', '6.6', '2.1', 'Iris-virginica', 'Iris-versicolor'], ['6.4', '3.2', '5.3', '2.3', 'Iris-virginica', 'Iris-versicolor'], ['5.8', '2.7', '5.1', '1.9', 'Iris-virginica', 'Iris-versicolor'], ['5.2', '2.7', '3.9', '1.4', 'Iris-versicolor', 'Iris-versicolor'], ['6.7', '2.5', '5.8', '1.8', 'Iris-virginica', 'Iris-setosa'], ['5.9', '3.0', '5.1', '1.8', 'Iris-virginica', 'Iris-versicolor'], ['5.4', '3.9', '1.7', '0.4', 'Iris-setosa', 'Iris-setosa'], ['5.7', '2.8', '4.5', '1.3', 'Iris-versicolor', 'Iris-versicolor'], ['5.0', '3.4', '1.6', '0.4', 'Iris-setosa', 'Iris-setosa'], ['6.0', '3.4', '4.5', '1.6', 'Iris-versicolor', 'Iris-versicolor'], ['7.2', '3.2', '6.0', '1.8', 'Iris-virginica', 'Iris-versicolor'], ['5.1', '3.8', '1.9', '0.4', 'Iris-setosa', 'Iris-setosa'], ['4.4', '3.2', '1.3', '0.2', 'Iris-setosa', 'Iris-setosa'], ['5.0', '2.0', '3.5', '1.0', 'Iris-versicolor', 'Iris-versicolor'], ['6.7', '3.3', '5.7', '2.5', 'Iris-virginica', 'Iris-versicolor'], ['6.7', '3.0', '5.0', '1.7', 'Iris-versicolor', 'Iris-versicolor'], ['5.5', '3.5', '1.3', '0.2', 'Iris-setosa', 'Iris-setosa'], ['4.7', '3.2', '1.6', '0.2', 'Iris-setosa', 'Iris-setosa'], ['5.0', '3.0', '1.6', '0.2', 'Iris-setosa', 'Iris-setosa'], ['5.8', '2.6', '4.0', '1.2', 'Iris-versicolor', 'Iris-versicolor'], ['6.7', '3.1', '4.7', '1.5', 'Iris-versicolor', 'Iris-versicolor'], ['4.6', '3.1', '1.5', '0.2', 'Iris-setosa', 'Iris-setosa'], ['4.5', '2.3', '1.3', '0.3', 'Iris-setosa', 'Iris-setosa'], ['7.7', '3.0', '6.1', '2.3', 'Iris-virginica', 'Iris-versicolor'], ['6.3', '3.3', '4.7', '1.6', 'Iris-versicolor', 'Iris-versicolor'], ['7.2', '3.0', '5.8', '1.6', 'Iris-virginica', 'Iris-virginica'], ['5.9', '3.0', '4.2', '1.5', 'Iris-versicolor', 'Iris-versicolor'], ['4.8', '3.0', '1.4', '0.3', 'Iris-setosa', 'Iris-setosa'], ['5.1', '2.5', '3.0', '1.1', 'Iris-versicolor', 'Iris-versicolor'], ['5.0', '3.2', '1.2', '0.2', 'Iris-setosa', 'Iris-setosa'], ['6.1', '3.0', '4.6', '1.4', 'Iris-versicolor', 'Iris-versicolor']]\n",
      "Accuracy :  0.71875\n"
     ]
    }
   ],
   "source": [
    "# when k = 20\n",
    "dataset = getdata('C:\\Users\\saikiran\\Desktop\\iris.txt') \n",
    "train_dataset, test_dataset = shuffle(dataset) #train test data split\n",
    "train_dataset1, test_dataset1 = shuffle1(train_dataset)\n",
    "print(len(train_dataset1))\n",
    "print(len(test_dataset1))\n",
    "K = 20   # Assumed K value\n",
    "\n",
    "knn_predict(test_dataset1, train_dataset1, K) \n",
    "print (test_dataset1)\n",
    "print \"Accuracy : \",accuracy(test_dataset1)"
   ]
  },
  {
   "cell_type": "markdown",
   "metadata": {},
   "source": [
    "<b>These are the accuracy rates for different values of k. and max accuracy i was able to get doing this approach is 0.71 for k =20. which is less than the K value i have chosen to train the whole model where my accuracy was 0.7333.</b>\n"
   ]
  },
  {
   "cell_type": "markdown",
   "metadata": {},
   "source": [
    " Experimentally,give evidence that your chosen value is better than other values of K.[Hint: runyour experiment with different values of K and plot the error measure for each value]."
   ]
  },
  {
   "cell_type": "code",
   "execution_count": 184,
   "metadata": {},
   "outputs": [
    {
     "data": {
      "image/png": "[encoded data removed]",
      "text/plain": [
       "<matplotlib.figure.Figure at 0xe0f1c18>"
      ]
     },
     "metadata": {},
     "output_type": "display_data"
    }
   ],
   "source": [
    "# these are accuracy values  for various k i have passed to the model my optimal value of k is 10 where accuracy is 0.7333\n",
    "plt.plot([0.34375,0.625,0.6875,0.71875,0.73333],[6,44,1,20,10])\n",
    "plt.title(\"K nearest neighbour classifier verses accuracy\")\n",
    "#Label the X and Y axes\n",
    "plt.xlabel(\"Accuracy\")\n",
    "plt.ylabel(\"K neighbours\")\n",
    "plt.show()"
   ]
  },
  {
   "cell_type": "markdown",
   "metadata": {},
   "source": [
    "<h2><b> Exercise 2b) using scikit </b></h2>\n"
   ]
  },
  {
   "cell_type": "markdown",
   "metadata": {
    "collapsed": true
   },
   "source": [
    "<h2><b> Comparing KNN method and Tree based for iris dataset</b></h2>"
   ]
  },
  {
   "cell_type": "code",
   "execution_count": 112,
   "metadata": {},
   "outputs": [
    {
     "name": "stdout",
     "output_type": "stream",
     "text": [
      "(150L, 4L)\n",
      "(150L, 1L)\n",
      "(111L, 4L)\n",
      "(39L, 4L)\n",
      "(111L,)\n",
      "(39L,)\n"
     ]
    }
   ],
   "source": [
    "#loading iris data using pandas.\n",
    "iris = pd.read_csv('C:\\Users\\saikiran\\Desktop\\iris.txt', header = None)\n",
    "X = np.array(iris.iloc[:, 0:4]) \n",
    "Y = np.array(iris.iloc[:, 4:])\n",
    "print(X.shape)\n",
    "print(Y.shape)\n",
    "#dividing the data to training and testing datasets\n",
    "np.random.seed(0)\n",
    "msk = np.random.rand(len(X)) < 0.7\n",
    "train_data = X[msk]\n",
    "test_data = X[~msk]\n",
    "Y_train = Y[msk].ravel()\n",
    "Y_test = Y[~msk].ravel()\n",
    "print(train_data.shape)\n",
    "print(test_data.shape)\n",
    "print(Y_train.shape)\n",
    "print(Y_test.shape)\n",
    " "
   ]
  },
  {
   "cell_type": "markdown",
   "metadata": {},
   "source": [
    "KNeighborsClassifier for training iris dataset using scikit and i have got the same accuracy score using  Nearest Neighbor and Decision Tree."
   ]
  },
  {
   "cell_type": "code",
   "execution_count": 185,
   "metadata": {},
   "outputs": [
    {
     "name": "stdout",
     "output_type": "stream",
     "text": [
      "using kd_tree , accuracy score is: 0.974358974359\n",
      "using knn classfier, accuracy score is: 0.974358974359\n"
     ]
    }
   ],
   "source": [
    "# for K nearest neighbour\n",
    "knn = KNeighborsClassifier(n_neighbors=7)#k value is 7\n",
    "# k nearest neighbour using Kd tree algorithm\"\n",
    "kdd = KNeighborsClassifier(n_neighbors=7, algorithm='kd_tree').fit(train_data,Y_train)\n",
    "#kdd.fit(train_data, Y_train)\n",
    "prediction_tree = kdd.predict(test_data)\n",
    "print \"using kd_tree , accuracy score is:\", accuracy_score(Y_test, prediction_tree)\n",
    "knn.fit(train_data, Y_train)\n",
    "prediction = knn.predict(test_data)\n",
    "print \"using knn classfier, accuracy score is:\",accuracy_score(Y_test, prediction)\n",
    "\n"
   ]
  },
  {
   "cell_type": "markdown",
   "metadata": {},
   "source": [
    "performing a grid search and cross validation for the iris data sets to find the optimal value of k"
   ]
  },
  {
   "cell_type": "code",
   "execution_count": 186,
   "metadata": {},
   "outputs": [
    {
     "data": {
      "text/plain": [
       "GridSearchCV(cv=3, error_score='raise',\n",
       "       estimator=KNeighborsClassifier(algorithm='auto', leaf_size=30, metric='minkowski',\n",
       "           metric_params=None, n_jobs=1, n_neighbors=5, p=2,\n",
       "           weights='uniform'),\n",
       "       fit_params=None, iid=True, n_jobs=1,\n",
       "       param_grid={'n_neighbors': [1, 5, 7, 8, 9], 'algorithm': ['kd_tree']},\n",
       "       pre_dispatch='2*n_jobs', refit=True, return_train_score=True,\n",
       "       scoring=None, verbose=0)"
      ]
     },
     "execution_count": 186,
     "metadata": {},
     "output_type": "execute_result"
    }
   ],
   "source": [
    "parameter_knn = {'n_neighbors':[1,5,7,8,9]}\n",
    "parameter_kdd = {'n_neighbors':[1,5,7,8,9],'algorithm':['kd_tree']}\n",
    "knn = KNeighborsClassifier()\n",
    "kdd =  KNeighborsClassifier()\n",
    "clf = GridSearchCV(knn, parameter_knn, cv = 3)\n",
    "clf_kdd = GridSearchCV(kdd, parameter_kdd, cv = 3)\n",
    "clf.fit(train_data,Y_train)\n",
    "clf_kdd.fit(train_data,Y_train)"
   ]
  },
  {
   "cell_type": "markdown",
   "metadata": {},
   "source": [
    "The optimal value of k after cross validation using k nearest neighbour and kd_tree algorithm are 5. I have calculated the mean test scores of each k value and plotted that against their accuracy score respectively."
   ]
  },
  {
   "cell_type": "code",
   "execution_count": 135,
   "metadata": {},
   "outputs": [
    {
     "name": "stdout",
     "output_type": "stream",
     "text": [
      "best k value using K neighbour is: 5\n",
      "best k value using Kdd tree neighbour is: 5\n"
     ]
    }
   ],
   "source": [
    "best_k = clf.best_estimator_.n_neighbors\n",
    "print \"best k value using K neighbour is:\", best_k\n",
    "best_kdd = clf_kdd.best_estimator_.n_neighbors\n",
    "print \"best k value using Kdd tree neighbour is:\",best_kdd"
   ]
  },
  {
   "cell_type": "code",
   "execution_count": 141,
   "metadata": {},
   "outputs": [
    {
     "data": {
      "image/png": "[encoded data removed]",
      "text/plain": [
       "<matplotlib.figure.Figure at 0xe361c88>"
      ]
     },
     "metadata": {},
     "output_type": "display_data"
    }
   ],
   "source": [
    "best_knn = clf.cv_results_['mean_test_score']\n",
    "plt.plot(best_knn)\n",
    "plt.title(\"K nearest neighbour classifier mean test score verses accuracy\")\n",
    "#Label the X and Y axes\n",
    "plt.xlabel(\"Mean Test score\")\n",
    "plt.ylabel(\"Accuracy\")\n",
    "plt.show()"
   ]
  },
  {
   "cell_type": "code",
   "execution_count": 140,
   "metadata": {},
   "outputs": [
    {
     "data": {
      "image/png": "[encoded data removed]",
      "text/plain": [
       "<matplotlib.figure.Figure at 0xe0e6c18>"
      ]
     },
     "metadata": {},
     "output_type": "display_data"
    }
   ],
   "source": [
    "best_kdd = clf_kdd.cv_results_['mean_test_score']\n",
    "plt.plot(best_kdd)\n",
    "plt.title(\"KD tree classifier mean test score verses accuracy\")\n",
    "#Label the X and Y axes\n",
    "plt.xlabel(\"Mean Test score\")\n",
    "plt.ylabel(\"Accuracy\")\n",
    "plt.show()"
   ]
  },
  {
   "cell_type": "markdown",
   "metadata": {},
   "source": [
    "<h2> <b> Comparing KNN method and Tree based for Wine dataset</b></h2>"
   ]
  },
  {
   "cell_type": "code",
   "execution_count": 153,
   "metadata": {},
   "outputs": [
    {
     "name": "stdout",
     "output_type": "stream",
     "text": [
      "(4898L, 11L)\n",
      "(4898L, 1L)\n",
      "(3442L, 11L)\n",
      "(1456L, 11L)\n",
      "(3442L,)\n",
      "(1456L,)\n"
     ]
    }
   ],
   "source": [
    "winered = pd.read_table(\"C:\\Users\\saikiran\\Downloads\\winequality-red.csv\", delimiter=\";\") \n",
    "winewhite = pd.read_csv(\"C:\\Users\\saikiran\\Downloads\\winequality-white.csv\", delimiter=\";\")\n",
    "wine =  winered.add(winewhite, fill_value=0)\n",
    "Xwine = np.array(wine.iloc[:, :11])\n",
    "Ywine = np.array(wine.iloc[:, -1:])\n",
    "print(Xwine.shape)\n",
    "print(Ywine.shape)\n",
    "np.random.seed(0)\n",
    "msk = np.random.rand(len(Xwine)) < 0.7\n",
    "train_data_wine = Xwine[msk]\n",
    "test_data_wine = Xwine[~msk]\n",
    "Y_train_wine = Ywine[msk].ravel()\n",
    "Y_test_wine =Ywine[~msk].ravel()\n",
    "print(train_data_wine.shape)\n",
    "print(test_data_wine.shape)\n",
    "print(Y_train_wine.shape)\n",
    "print(Y_test_wine.shape)"
   ]
  },
  {
   "cell_type": "markdown",
   "metadata": {},
   "source": [
    "KNeighborsClassifier for training wine dataset using scikit and i have got the same accuracy score using  Nearest Neighbor and Decision Tree."
   ]
  },
  {
   "cell_type": "code",
   "execution_count": 187,
   "metadata": {},
   "outputs": [
    {
     "name": "stdout",
     "output_type": "stream",
     "text": [
      "using kd_tree, accuracy is: 0.39010989011\n",
      "using knn classfier, accuracy is: 0.39010989011\n"
     ]
    }
   ],
   "source": [
    "# for K nearest neighbour\n",
    "knn_wine = KNeighborsClassifier(n_neighbors=7)#k value is 7\n",
    "# k nearest neighbour using Kd tree algorithm\"\n",
    "kdd_wine = KNeighborsClassifier(n_neighbors=7, algorithm='kd_tree').fit(train_data_wine,Y_train_wine)\n",
    "\n",
    "prediction_tree_wine = kdd_wine.predict(test_data_wine)\n",
    "print \"using kd_tree, accuracy is:\", accuracy_score(Y_test_wine, prediction_tree_wine)\n",
    "knn_wine.fit(train_data_wine, Y_train_wine)\n",
    "prediction_wine = knn_wine.predict(test_data_wine)\n",
    "print \"using knn classfier, accuracy is:\",accuracy_score(Y_test_wine, prediction_wine)\n",
    "\n"
   ]
  },
  {
   "cell_type": "markdown",
   "metadata": {},
   "source": [
    "performing a grid search  and cross validation for the wine data sets to find the optimal value of k"
   ]
  },
  {
   "cell_type": "code",
   "execution_count": 177,
   "metadata": {},
   "outputs": [
    {
     "data": {
      "text/plain": [
       "GridSearchCV(cv=30, error_score='raise',\n",
       "       estimator=KNeighborsClassifier(algorithm='auto', leaf_size=30, metric='minkowski',\n",
       "           metric_params=None, n_jobs=1, n_neighbors=5, p=2,\n",
       "           weights='uniform'),\n",
       "       fit_params=None, iid=True, n_jobs=1,\n",
       "       param_grid={'n_neighbors': [1, 5, 7, 8, 9], 'algorithm': ['kd_tree']},\n",
       "       pre_dispatch='2*n_jobs', refit=True, return_train_score=True,\n",
       "       scoring=None, verbose=0)"
      ]
     },
     "execution_count": 177,
     "metadata": {},
     "output_type": "execute_result"
    }
   ],
   "source": [
    "parameter_knn_wine = {'n_neighbors':[1,5,7,8,9]}\n",
    "parameter_kdd_wine = {'n_neighbors':[1,5,7,8,9],'algorithm':['kd_tree']}\n",
    "knn_wine = KNeighborsClassifier()\n",
    "kdd_wine =  KNeighborsClassifier()\n",
    "clf = GridSearchCV(knn_wine, parameter_knn_wine, cv = 30)\n",
    "clf_kdd = GridSearchCV(kdd_wine, parameter_kdd_wine, cv = 30)\n",
    "clf.fit(train_data_wine,Y_train_wine)\n",
    "clf_kdd.fit(train_data_wine,Y_train_wine)"
   ]
  },
  {
   "cell_type": "markdown",
   "metadata": {},
   "source": [
    "The optimal value of k after cross validation using k nearest neighbour and kd_tree algorithm are 8. I have calculated the mean test scores of each k value and plotted that against their accuracy score respectively."
   ]
  },
  {
   "cell_type": "code",
   "execution_count": 160,
   "metadata": {},
   "outputs": [
    {
     "name": "stdout",
     "output_type": "stream",
     "text": [
      "best k value using K neighbour is: 8\n",
      "best k value using Kdd tree neighbour is: 8\n"
     ]
    }
   ],
   "source": [
    "best_k_wine = clf.best_estimator_.n_neighbors\n",
    "print \"best k value using K neighbour is:\", best_k_wine\n",
    "best_kdd_wine = clf_kdd.best_estimator_.n_neighbors\n",
    "print \"best k value using Kdd tree neighbour is:\",best_kdd_wine"
   ]
  },
  {
   "cell_type": "code",
   "execution_count": 161,
   "metadata": {},
   "outputs": [
    {
     "data": {
      "image/png": "[encoded data removed]",
      "text/plain": [
       "<matplotlib.figure.Figure at 0xe3b7908>"
      ]
     },
     "metadata": {},
     "output_type": "display_data"
    }
   ],
   "source": [
    "best_knn = clf.cv_results_['mean_test_score']\n",
    "plt.plot(best_knn)\n",
    "plt.title(\"K nearest neighbour classifier mean test score verses accuracy\")\n",
    "#Label the X and Y axes\n",
    "plt.xlabel(\"Mean Test score\")\n",
    "plt.ylabel(\"Accuracy\")\n",
    "plt.show()"
   ]
  },
  {
   "cell_type": "code",
   "execution_count": 162,
   "metadata": {},
   "outputs": [
    {
     "data": {
      "image/png": "[encoded data removed]",
      "text/plain": [
       "<matplotlib.figure.Figure at 0xe13ce10>"
      ]
     },
     "metadata": {},
     "output_type": "display_data"
    }
   ],
   "source": [
    "best_kdd = clf_kdd.cv_results_['mean_test_score']\n",
    "plt.plot(best_kdd)\n",
    "plt.title(\"KD tree classifier mean test score verses accuracy\")\n",
    "#Label the X and Y axes\n",
    "plt.xlabel(\"Mean Test score\")\n",
    "plt.ylabel(\"Accuracy\")\n",
    "plt.show()"
   ]
  },
  {
   "cell_type": "markdown",
   "metadata": {},
   "source": [
    "<h4> <b><i> My both Kd tree and K nearest neighbour algorithms are performing equally for both the datasets.</i></b></h4> "
   ]
  },
  {
   "cell_type": "code",
   "execution_count": null,
   "metadata": {
    "collapsed": true
   },
   "outputs": [],
   "source": []
  }
 ],
 "metadata": {
  "kernelspec": {
   "display_name": "Python 3",
   "language": "python",
   "name": "python3"
  },
  "language_info": {
   "codemirror_mode": {
    "name": "ipython",
    "version": 3
   },
   "file_extension": ".py",
   "mimetype": "text/x-python",
   "name": "python",
   "nbconvert_exporter": "python",
   "pygments_lexer": "ipython3",
   "version": "3.5.5"
  }
 },
 "nbformat": 4,
 "nbformat_minor": 2
}
