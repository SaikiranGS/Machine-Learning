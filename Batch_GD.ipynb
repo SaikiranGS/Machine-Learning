{
 "cells": [
  {
   "cell_type": "code",
   "execution_count": 1,
   "metadata": {},
   "outputs": [
    {
     "name": "stdout",
     "output_type": "stream",
     "text": [
      "execution time is: 13.60824990272522\n"
     ]
    },
    {
     "data": {
      "text/plain": [
       "'for i in range (len(Rmse_train_list)):\\n    if i==0:\\n        print(\"epoch={} and total train_RMSE={}\".format(i,Rmse_train_list[i]))\\n    else:\\n        rmse_diff =abs(Rmse_train_list[i]-Rmse_train_list[i-1])\\n        if rmse_diff<0.01:\\n            print(\"converged at epoch={}\".format(i))\\n            break\\n        else:\\n            print(\"epoch={} and total train_RMSE={}\".format(i,Rmse_train_list[i]))\\nfor i in range (len(Rmse_train_list)):\\n        print(\"epoch={} and total test_RMSE={}\".format(i,Rmse_test_list[i]))'"
      ]
     },
     "execution_count": 1,
     "metadata": {},
     "output_type": "execute_result"
    }
   ],
   "source": [
    "from sklearn.datasets import load_svmlight_file\n",
    "from sklearn.model_selection import train_test_split\n",
    "import matplotlib.pyplot as plt\n",
    "import numpy as np\n",
    "import os\n",
    "import math\n",
    "import time\n",
    "\n",
    "def rmse(x,y,theta):\n",
    "    hypothesis = np.dot(x,theta)\n",
    "    cost = np.average((y-hypothesis) ** 2)\n",
    "    rmse = (math.sqrt(cost))\n",
    "    return rmse\n",
    "    \n",
    "\n",
    "dir_list = os.listdir('C:\\\\Users\\\\saikiran\\\\Downloads\\\\dataset')\n",
    "#print(len(dir_list))\n",
    "with open('C:\\\\Users\\\\saikiran\\\\Downloads\\\\dataset_combined\\\\combined.txt', 'w') as outfile:\n",
    "    for fname in dir_list:\n",
    "        with open('C:\\\\Users\\\\saikiran\\\\Downloads\\\\dataset\\\\'+fname) as infile:\n",
    "            for line in infile:\n",
    "                outfile.write(line)\n",
    "    \n",
    "data = load_svmlight_file('C:\\\\Users\\\\saikiran\\\\Downloads\\\\dataset_combined\\\\combined.txt')\n",
    "X = data[0]\n",
    "X = X[:2000]\n",
    "X = X.toarray()\n",
    "bias = np.ones((len(X),1), dtype=int)\n",
    "X = np.concatenate((bias,X),axis=1)\n",
    "Y = data[1]\n",
    "Y = Y[:2000]\n",
    "Y = Y.reshape(len(Y),1)\n",
    "\n",
    "np.random.seed(0)\n",
    "#beta = np.random.rand(X.shape[1],1)\n",
    "#beta = np.random.uniform(0.00005,0.0001,X.shape[1])\n",
    "beta = np.random.uniform(0.001,0.01,X.shape[1])\n",
    "beta = beta.reshape(len(beta),1)\n",
    "#beta = np.around(beta, decimals=3)\n",
    "alpha = 0.0000000001\n",
    "\n",
    "X_train, X_test, Y_train, Y_test = train_test_split(X, Y, test_size=0.30, random_state=42)\n",
    "Rmse_train_list =[]\n",
    "Rmse_test_list =[]\n",
    "start = time.time()\n",
    "batch_size = 200\n",
    "\n",
    "x_train_batch = [X_train[x:x+batch_size] for x in range(0,len(X_train),batch_size)]\n",
    "y_train_batch = [Y_train[x:x+batch_size] for x in range(0,len(Y_train),batch_size)]\n",
    "\n",
    "for k in range(0,100):\n",
    "    for i in range (0,len(x_train_batch)):\n",
    "        x_train = x_train_batch[i]\n",
    "        y_train = y_train_batch[i]\n",
    "        for j in range(len(x_train)):\n",
    "            hypothesis = np.dot(x_train, beta)\n",
    "            gradient =  np.dot(x_train.T,(y_train-hypothesis))\n",
    "            beta = beta + np.multiply(alpha,gradient)\n",
    "    RMSE_train = rmse(X_train,Y_train,beta)\n",
    "    RMSE_test = rmse(X_test,Y_test,beta)\n",
    "    Rmse_train_list = np.append(Rmse_train_list,RMSE_train)\n",
    "    Rmse_test_list = np.append(Rmse_test_list,RMSE_test)\n",
    "\n",
    "end = time.time()\n",
    "print(\"execution time is:\", end-start)\n",
    "'''for i in range (len(Rmse_train_list)):\n",
    "    if i==0:\n",
    "        print(\"epoch={} and total train_RMSE={}\".format(i,Rmse_train_list[i]))\n",
    "    else:\n",
    "        rmse_diff =abs(Rmse_train_list[i]-Rmse_train_list[i-1])\n",
    "        if rmse_diff<0.01:\n",
    "            print(\"converged at epoch={}\".format(i))\n",
    "            break\n",
    "        else:\n",
    "            print(\"epoch={} and total train_RMSE={}\".format(i,Rmse_train_list[i]))\n",
    "for i in range (len(Rmse_train_list)):\n",
    "        print(\"epoch={} and total test_RMSE={}\".format(i,Rmse_test_list[i]))'''\n",
    "           \n",
    "        \n"
   ]
  },
  {
   "cell_type": "code",
   "execution_count": 2,
   "metadata": {},
   "outputs": [
    {
     "data": {
      "image/png": "[encoded data removed]",
      "text/plain": [
       "<Figure size 432x288 with 1 Axes>"
      ]
     },
     "metadata": {},
     "output_type": "display_data"
    }
   ],
   "source": [
    "epoch = np.arange(100)\n",
    "plt.plot(epoch,Rmse_train_list)\n",
    "plt.plot(epoch,Rmse_test_list)\n",
    "plt.ylabel(\"RMSE_train And RMSE_test score\")\n",
    "plt.xlabel(\"no of epoch\")\n",
    "plt.title(\"RMSE_train And RMSE_test score vs No of epoch for p = 1\")\n",
    "plt.legend(['Training-score', 'Testing-score'], loc='upper right')\n",
    "plt.show()"
   ]
  },
  {
   "cell_type": "code",
   "execution_count": null,
   "metadata": {
    "collapsed": true
   },
   "outputs": [],
   "source": []
  }
 ],
 "metadata": {
  "kernelspec": {
   "display_name": "Python 3",
   "language": "python",
   "name": "python3"
  },
  "language_info": {
   "codemirror_mode": {
    "name": "ipython",
    "version": 3
   },
   "file_extension": ".py",
   "mimetype": "text/x-python",
   "name": "python",
   "nbconvert_exporter": "python",
   "pygments_lexer": "ipython3",
   "version": "3.5.5"
  }
 },
 "nbformat": 4,
 "nbformat_minor": 2
}
