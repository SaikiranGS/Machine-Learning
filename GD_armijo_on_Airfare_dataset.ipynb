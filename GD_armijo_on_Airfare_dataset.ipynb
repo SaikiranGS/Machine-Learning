{
 "cells": [
  {
   "cell_type": "code",
   "execution_count": 1,
   "metadata": {},
   "outputs": [
    {
     "name": "stdout",
     "output_type": "stream",
     "text": [
      "(1000, 216)\n"
     ]
    }
   ],
   "source": [
    "import numpy as np\n",
    "import sys\n",
    "import pandas as pd\n",
    "import math\n",
    "import matplotlib.pyplot as plt\n",
    "#loading the Airfare dataset and diving to two separate dataframes\n",
    "Airfare = pd.read_table(\"http://www.stat.ufl.edu/~winner/data/airq402.dat\", delim_whitespace=True, names=('Ci1', 'Ct2', 'AF1', 'Dist', 'AWP', 'MLA', 'MS1', 'AF2', 'LPA', 'MS2', 'price'))\n",
    "XAirfare = Airfare.iloc[:,:-1]\n",
    "YAirfare = pd.DataFrame(Airfare, columns=['price'])\n",
    "#converting the non numeric to numeric values using pandas.get_dummies\n",
    "XAirfare = pd.get_dummies(XAirfare)\n",
    "print(XAirfare.shape)"
   ]
  },
  {
   "cell_type": "code",
   "execution_count": 2,
   "metadata": {},
   "outputs": [],
   "source": [
    "#Adding Bias as predictor variables\n",
    "bias = pd.DataFrame(1, index=np.arange(len(XAirfare)), columns=['bias'])\n",
    "XAirfare = np.concatenate((bias,XAirfare),axis=1)\n",
    "#diving the dataframe to training and testing sets\n",
    "np.random.seed(0)\n",
    "msk = np.random.rand(len(XAirfare)) < 0.8\n",
    "X_train = XAirfare[msk]\n",
    "X_test = XAirfare[~msk]\n",
    "Y_train = YAirfare[msk]\n",
    "Y_test = YAirfare[~msk]\n",
    "#initializing the random parameter coefficients\n",
    "#beta = np.random.rand(X_train.shape[1],1)\n",
    "beta = np.full((X_train.shape[1],1),0.09)"
   ]
  },
  {
   "cell_type": "code",
   "execution_count": 3,
   "metadata": {},
   "outputs": [],
   "source": [
    "def rmse(x,y,theta):\n",
    "    hypothesis = np.dot(x,theta)\n",
    "    cost = np.average((y-hypothesis) ** 2)\n",
    "    rmse_value = (math.sqrt(cost))\n",
    "    return rmse_value"
   ]
  },
  {
   "cell_type": "code",
   "execution_count": 4,
   "metadata": {},
   "outputs": [],
   "source": [
    "def armijo(RSS, x, y, theta, delta, gradient):\n",
    "\n",
    "    alpha = 1.0\n",
    "    #RSS2 is my f(x + αd) ,RSS is my f(x) and result is αδdT d \n",
    "    RSS2 = np.sum((y - np.dot(x,(theta - alpha * gradient)))**2)\n",
    "    result = alpha * delta * ((np.dot(gradient.T,gradient)).flatten())\n",
    "    #checking the condition that f(x + αd) > f(x) - αδdT d if it is true we divide alpha by 2 and check for the condition again\n",
    "    #we repeat this process till the condition breaks here delta ranges between 0 and 1.\n",
    "    while np.all(RSS2 > RSS-result):\n",
    "        alpha = alpha/2\n",
    "        RSS2 =  np.sum((y - np.dot(x,(theta - alpha * gradient)))**2)\n",
    "        result = alpha * delta * ((np.dot(gradient.T,gradient)).flatten())  \n",
    "    return alpha"
   ]
  },
  {
   "cell_type": "code",
   "execution_count": 5,
   "metadata": {},
   "outputs": [],
   "source": [
    "# Gradient Descent with armijo\n",
    "def gradientDescent_ar(x, y, theta,alpha, numIterations,RMSE):\n",
    "    for i in range(0, numIterations):\n",
    "        hypothesis = np.dot(x, theta)\n",
    "        RSS = np.sum((hypothesis-y)**2)\n",
    "        loss = hypothesis-y\n",
    "        gradient = np.dot(x.T, loss)\n",
    "        x_ar = x\n",
    "        y_ar = y\n",
    "        gr =gradient\n",
    "        # passing the values to armijo to get the computed alpha which helps in finding the optimal solution in less number of steps.\n",
    "        alpha = armijo(RSS, x, y, theta, 0.5, gr)  \n",
    "        # update\n",
    "        theta = theta - alpha * gradient\n",
    "        rmse_value = rmse(x,y,theta)\n",
    "        RMSE = np.append(RMSE,rmse_value)    \n",
    "    return theta,RMSE\n",
    "\n"
   ]
  },
  {
   "cell_type": "code",
   "execution_count": 6,
   "metadata": {},
   "outputs": [
    {
     "name": "stdout",
     "output_type": "stream",
     "text": [
      "[64.41951666 51.22476716 46.52581246 44.88097332 44.20927848 43.83569922\n",
      " 43.41607458 43.0907711  42.72913851 42.39652763 42.06799094 41.72481405\n",
      " 41.43190818 41.07501993 40.82107958 40.44684928 40.23582097 39.84004817\n",
      " 39.5856595  39.31008694 38.73166462 38.43538504 38.19625264 37.8876777\n",
      " 37.68304759 37.35896876 37.14349918 36.85085324 36.38897543 36.14328385\n",
      " 35.92229445 35.66811416 35.4748974  35.20978627 35.04688902 34.7680329\n",
      " 34.58581402 34.36242948 33.96143399 33.75232083 33.57368273 33.35705881\n",
      " 33.20265401 32.97638954 32.84841223 32.61005743 32.45702324 32.29025776\n",
      " 31.94447462 31.76768789 31.62474338 31.44135846 31.31938054 31.12755352\n",
      " 31.00012749 30.82620669 30.55492876 30.41083003 30.28096663 30.13249119\n",
      " 30.01927237 29.86503535 29.76980274 29.60821875 29.50269208 29.37227234\n",
      " 29.1417136  29.02160939 28.91866253 28.79473734 28.70596115 28.57702998\n",
      " 28.50355663 28.36826517 28.28141073 28.18553213 27.99075518 27.89122597\n",
      " 27.81031902 27.70746601 27.63852757 27.53134297 27.4601129  27.36178336\n",
      " 27.21135651 27.13142614 27.05897567 26.97691187 26.91383049 26.82888391\n",
      " 26.77583822 26.68715646 26.62917039 26.55625189 26.43063995 26.36512368\n",
      " 26.30848501 26.24110629 26.19227159 26.12239902 26.08192626 26.00884237\n",
      " 25.96181989 25.90853494 25.80405809 25.75054292 25.70650449 25.65136679\n",
      " 25.61379154 25.55650166 25.52585657 25.46581311 25.42779114 25.37917647\n",
      " 25.34109593 25.29647739 25.25808728 25.21761251 25.17863222 25.1424902\n",
      " 25.10260467 25.0710315  25.02988562 25.00317118 24.96036329 24.93214845\n",
      " 24.89465054 24.83460288 24.80298497 24.77484704 24.74243082 24.71803349\n",
      " 24.68452338 24.66410971 24.62917146 24.60646372 24.57872384 24.5292725\n",
      " 24.50364004 24.48174701 24.45541331 24.43657385 24.40929351 24.3937116\n",
      " 24.3652071  24.34692603 24.32648797 24.28579417 24.26500711 24.24795523\n",
      " 24.22655475 24.21199023 24.18977302 24.17786711 24.15460316 24.13986674\n",
      " 24.12099087 24.10623587 24.08888645 24.07401627 24.05824499 24.04315218\n",
      " 24.02902657 24.013591   24.00119662 23.98528334 23.97472619 23.95818305\n",
      " 23.94722048 23.93211804 23.90901122 23.89674838 23.88557937 23.87301309\n",
      " 23.86324659 23.85026551 23.84199081 23.82846926 23.81958627 23.80793254\n",
      " 23.78892029 23.77892402 23.77002743 23.75976432 23.75200335 23.74138155\n",
      " 23.73483143 23.72374723 23.71651473 23.7073999  23.69172801 23.68354515\n",
      " 23.67638922 23.6679731  23.66173657 23.65301149 23.6477577  23.63863809\n",
      " 23.63271432 23.62545105 23.61250215 23.6057693  23.59994268 23.59300704\n",
      " 23.58792489 23.58072407 23.57643967 23.56890312 23.56401662 23.55808939\n",
      " 23.54735936 23.54178578 23.53697158 23.53122255 23.52701141 23.52103554\n",
      " 23.51747226 23.51121137 23.50714696 23.50217203 23.49324994 23.48860339\n",
      " 23.48455838 23.4797607  23.4762045  23.47121337 23.46818361 23.46295105\n",
      " 23.4595384  23.45523239 23.44778367 23.44387884 23.44041694 23.43638247\n",
      " 23.43331709 23.42911809 23.42648079 23.42207772 23.41918215 23.41533757\n",
      " 23.40909004 23.40577917 23.40275851 23.39933683 23.3966381  23.39307686\n",
      " 23.39072654 23.38699314 23.38450822 23.38097469 23.37570699 23.37287228\n",
      " 23.37018502 23.3672559  23.3648303  23.36178309 23.35964132 23.35644913\n",
      " 23.35461757 23.35124976 23.34907191 23.34645979 23.34160468 23.33907204\n",
      " 23.33684936 23.33421702 23.33222582 23.32947161 23.32773391 23.32483254\n",
      " 23.32291653 23.32030204 23.31616537 23.31395237 23.3118802  23.30958322\n",
      " 23.30770004 23.30530078 23.30362499 23.30110257 23.29965588 23.29698645\n",
      " 23.29525663 23.29314865 23.28928683 23.28726142 23.28545529 23.28334419\n",
      " 23.28170792 23.27949388 23.27804556 23.27570888 23.27415025 23.27189908\n",
      " 23.26857314 23.26676809 23.26501668 23.26313995 23.26152784 23.25956519\n",
      " 23.25810743 23.25604258 23.25475682 23.25257113 23.25112764 23.24915139\n",
      " 23.24601366 23.24432797 23.24272976 23.24097244 23.23950115 23.23765876\n",
      " 23.23632906 23.23438619 23.2332152  23.23115417 23.22980134 23.22801222\n",
      " 23.22503658 23.22344735 23.22196095 23.22030099 23.21893129 23.21718784\n",
      " 23.21594907 23.21410752 23.21301623 23.2110598  23.2097793  23.20811317\n",
      " 23.20527925 23.20376922 23.20236412 23.2007848  23.19948783 23.19782713\n",
      " 23.19665203 23.19489607 23.1938588  23.19199162 23.19076965 23.18917985\n",
      " 23.18647167 23.18502772 23.18368149 23.18217009 23.18092467 23.17933434\n",
      " 23.17820298 23.17652052 23.17551858 23.17372878 23.17255497 23.17100778\n",
      " 23.16841259 23.16702473 23.16572089 23.16426769 23.16305833 23.16152884\n",
      " 23.16042671 23.15880838 23.15782822 23.15610656 23.15497305 23.15344433\n",
      " 23.15095186 23.14961242 23.14833893 23.14693639 23.14575182 23.14427578\n",
      " 23.14319236 23.14163084 23.14066273 23.13900193 23.13790275 23.13637539\n",
      " 23.13397722 23.13268027 23.13142835 23.13007063 23.12890268 23.12747428\n",
      " 23.12640203 23.12489154 23.12392855 23.1223228  23.12125337 23.11971547\n",
      " 23.11740462 23.1161455  23.11490881 23.11359129 23.1124341  23.11104873\n",
      " 23.10998228 23.10851818 23.10755547 23.10600008]\n"
     ]
    }
   ],
   "source": [
    "train_RMSE=[]\n",
    "test_RMSE =[]\n",
    "numIterations= 400\n",
    "alpha = 0.00059\n",
    "\n",
    "beta,train_RMSE = gradientDescent_ar(X_train, Y_train, beta, alpha, numIterations,train_RMSE)\n",
    "#beta,test_RMSE = gradientDescent(X_test, Y_test, beta, alpha, numIterations,test_RMSE)\n",
    "print(train_RMSE)"
   ]
  },
  {
   "cell_type": "code",
   "execution_count": 7,
   "metadata": {},
   "outputs": [
    {
     "data": {
      "image/png": "[encoded data removed]",
      "text/plain": [
       "<Figure size 432x288 with 1 Axes>"
      ]
     },
     "metadata": {},
     "output_type": "display_data"
    }
   ],
   "source": [
    "epoch = np.arange(0,numIterations)\n",
    "plt.plot(epoch,train_RMSE)\n",
    "plt.ylabel(\"RMSE_train\")\n",
    "plt.xlabel(\"no of epoch\")\n",
    "plt.title(\"RMSE_train vs No of epoch for p = 1\")\n",
    "plt.legend(['Training-score'], loc='upper right')\n",
    "plt.show()"
   ]
  },
  {
   "cell_type": "code",
   "execution_count": null,
   "metadata": {},
   "outputs": [],
   "source": []
  }
 ],
 "metadata": {
  "kernelspec": {
   "display_name": "Python 3",
   "language": "python",
   "name": "python3"
  },
  "language_info": {
   "codemirror_mode": {
    "name": "ipython",
    "version": 3
   },
   "file_extension": ".py",
   "mimetype": "text/x-python",
   "name": "python",
   "nbconvert_exporter": "python",
   "pygments_lexer": "ipython3",
   "version": "3.5.5"
  }
 },
 "nbformat": 4,
 "nbformat_minor": 2
}
