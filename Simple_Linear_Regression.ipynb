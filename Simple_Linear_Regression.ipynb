{
 "cells": [
  {
   "cell_type": "code",
   "execution_count": 13,
   "metadata": {},
   "outputs": [
    {
     "name": "stdout",
     "output_type": "stream",
     "text": [
      "beta1 is: -0.023860917890473884\n",
      "beta0 is: 2.0491493939501475\n"
     ]
    },
    {
     "data": {
      "image/png": "[encoded data removed]",
      "text/plain": [
       "<Figure size 432x288 with 1 Axes>"
      ]
     },
     "metadata": {},
     "output_type": "display_data"
    }
   ],
   "source": [
    "#importing the libraries\n",
    "import numpy as np\n",
    "import matplotlib.pyplot as plt\n",
    "import numpy.linalg\n",
    "import warnings\n",
    "\n",
    "#initializing the seed to make our random values fixed\n",
    "np.random.seed(0)\n",
    "#creating a matrix with random variables over normal distribution mean=2, std=0.01\n",
    "A = np.random.normal(2,0.01,(100,2))\n",
    "#Splitting the matrix to X and Y values\n",
    "X = A[:,0]\n",
    "Y = A[:,1]\n",
    "\n",
    "\n",
    "#calculating the means of X and Y\n",
    "x_mean = np.mean(X)\n",
    "y_mean = np.mean(Y)\n",
    "#initializing the XY_total and X_total to compute beta0 and beta1 values\n",
    "XY_total = 0\n",
    "X_total = 0\n",
    "Y_Predict = []\n",
    "\n",
    "\n",
    "for i in range(len(X)):\n",
    "    #for each i in length of X it does the following operation\n",
    "    product = ((X[i] - x_mean) * (Y[i] - y_mean))\n",
    "    x_summation = ((X[i] - x_mean)**2)\n",
    "    XY_total += product\n",
    "    X_total += x_summation\n",
    "\n",
    "beta1 = XY_total/X_total\n",
    "print(\"beta1 is:\",beta1)\n",
    "beta0 = (y_mean - (beta1 * x_mean))\n",
    "print(\"beta0 is:\", beta0)\n",
    "\n",
    "# for each i in length of X it appends the predicted value to Y_Predict\n",
    "for i in range(len(X)):\n",
    "    Y_Predict = np.append(Y_Predict,(beta0 + (beta1 * X[i])))\n",
    "\n",
    "# plotting the training data as  points    \n",
    "plt.scatter(X,Y,color=\"green\")\n",
    "#plotting  the predicted values with the training data to get the best fit line\n",
    "plt.plot(X,Y_Predict,color='red')\n",
    "#Label the title\n",
    "plt.title(\"LinearRegression\")\n",
    "#Label the X and Y axes\n",
    "plt.xlabel(\"Training Data\")\n",
    "plt.ylabel(\"YPredicted Data\")\n",
    "plt.legend([\"Training(X-Y)\", \"Training-YPredict\"], loc='upper right')\n",
    "#showing the plotted graph\n",
    "plt.show()\n"
   ]
  },
  {
   "cell_type": "code",
   "execution_count": 14,
   "metadata": {},
   "outputs": [
    {
     "name": "stdout",
     "output_type": "stream",
     "text": [
      "Line is: y= -0.02386091789047332 x+ 2.0491493939501466 where beta1 is: -0.02386091789047332 beta0 is: 2.0491493939501466\n"
     ]
    },
    {
     "name": "stderr",
     "output_type": "stream",
     "text": [
      "C:\\Users\\saikiran\\Anaconda2\\envs\\ana3\\lib\\site-packages\\ipykernel_launcher.py:3: FutureWarning: `rcond` parameter will change to the default of machine precision times ``max(M, N)`` where M and N are the input matrix dimensions.\n",
      "To use the future default and silence this warning we advise to pass `rcond=None`, to keep using the old, explicitly pass `rcond=-1`.\n",
      "  This is separate from the ipykernel package so we can avoid doing imports until\n"
     ]
    }
   ],
   "source": [
    "X=numpy.array(([[X[j], 1] for j in range(len(X))]))\n",
    "#It takes the 0th index from both M and N and assigned to L\n",
    "L=numpy.linalg.lstsq(X,Y)[0]\n",
    "#fetching the values of L[0] and L[1] and saving them in a and b respectively to get our beta1 and beta0 values\n",
    "a=L[0]; b=L[1]\n",
    "print(\"Line is: y=\",a,\"x+\",b, \"where beta1 is:\",a, \"beta0 is:\",b)"
   ]
  },
  {
   "cell_type": "code",
   "execution_count": null,
   "metadata": {},
   "outputs": [],
   "source": []
  }
 ],
 "metadata": {
  "kernelspec": {
   "display_name": "Python 3",
   "language": "python",
   "name": "python3"
  },
  "language_info": {
   "codemirror_mode": {
    "name": "ipython",
    "version": 3
   },
   "file_extension": ".py",
   "mimetype": "text/x-python",
   "name": "python",
   "nbconvert_exporter": "python",
   "pygments_lexer": "ipython3",
   "version": "3.5.5"
  }
 },
 "nbformat": 4,
 "nbformat_minor": 2
}
