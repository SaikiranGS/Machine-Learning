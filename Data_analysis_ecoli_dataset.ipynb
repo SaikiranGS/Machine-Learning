{
 "cells": [
  {
   "cell_type": "markdown",
   "metadata": {},
   "source": [
    "1.loading the text file into the pandas dataframe and providing the headers for dataframe"
   ]
  },
  {
   "cell_type": "code",
   "execution_count": 1,
   "metadata": {},
   "outputs": [
    {
     "name": "stdout",
     "output_type": "stream",
     "text": [
      "    Sequence Name   mcg   gvh   lip  chg   aac  alm1  alm2 class\n",
      "0       AAT_ECOLI  0.49  0.29  0.48  0.5  0.56  0.24  0.35    cp\n",
      "1      ACEA_ECOLI  0.07  0.40  0.48  0.5  0.54  0.35  0.44    cp\n",
      "2      ACEK_ECOLI  0.56  0.40  0.48  0.5  0.49  0.37  0.46    cp\n",
      "3      ACKA_ECOLI  0.59  0.49  0.48  0.5  0.52  0.45  0.36    cp\n",
      "4       ADI_ECOLI  0.23  0.32  0.48  0.5  0.55  0.25  0.35    cp\n",
      "5      ALKH_ECOLI  0.67  0.39  0.48  0.5  0.36  0.38  0.46    cp\n",
      "6      AMPD_ECOLI  0.29  0.28  0.48  0.5  0.44  0.23  0.34    cp\n",
      "7      AMY2_ECOLI  0.21  0.34  0.48  0.5  0.51  0.28  0.39    cp\n",
      "8       APT_ECOLI  0.20  0.44  0.48  0.5  0.46  0.51  0.57    cp\n",
      "9      ARAC_ECOLI  0.42  0.40  0.48  0.5  0.56  0.18  0.30    cp\n",
      "10     ASG1_ECOLI  0.42  0.24  0.48  0.5  0.57  0.27  0.37    cp\n",
      "11     BTUR_ECOLI  0.25  0.48  0.48  0.5  0.44  0.17  0.29    cp\n",
      "12     CAFA_ECOLI  0.39  0.32  0.48  0.5  0.46  0.24  0.35    cp\n",
      "13     CAIB_ECOLI  0.51  0.50  0.48  0.5  0.46  0.32  0.35    cp\n",
      "14      CFA_ECOLI  0.22  0.43  0.48  0.5  0.48  0.16  0.28    cp\n",
      "15     CHEA_ECOLI  0.25  0.40  0.48  0.5  0.46  0.44  0.52    cp\n",
      "16     CHEB_ECOLI  0.34  0.45  0.48  0.5  0.38  0.24  0.35    cp\n",
      "17     CHEW_ECOLI  0.44  0.27  0.48  0.5  0.55  0.52  0.58    cp\n",
      "18     CHEY_ECOLI  0.23  0.40  0.48  0.5  0.39  0.28  0.38    cp\n",
      "19     CHEZ_ECOLI  0.41  0.57  0.48  0.5  0.39  0.21  0.32    cp\n",
      "20      CRL_ECOLI  0.40  0.45  0.48  0.5  0.38  0.22  0.00    cp\n",
      "21     CSPA_ECOLI  0.31  0.23  0.48  0.5  0.73  0.05  0.14    cp\n",
      "22     CYNR_ECOLI  0.51  0.54  0.48  0.5  0.41  0.34  0.43    cp\n",
      "23     CYPB_ECOLI  0.30  0.16  0.48  0.5  0.56  0.11  0.23    cp\n",
      "24     CYPC_ECOLI  0.36  0.39  0.48  0.5  0.48  0.22  0.23    cp\n",
      "25     CYSB_ECOLI  0.29  0.37  0.48  0.5  0.48  0.44  0.52    cp\n",
      "26     CYSE_ECOLI  0.25  0.40  0.48  0.5  0.47  0.33  0.42    cp\n",
      "27     DAPD_ECOLI  0.21  0.51  0.48  0.5  0.50  0.32  0.41    cp\n",
      "28      DCP_ECOLI  0.43  0.37  0.48  0.5  0.53  0.35  0.44    cp\n",
      "29     DDLA_ECOLI  0.43  0.39  0.48  0.5  0.47  0.31  0.41    cp\n",
      "..            ...   ...   ...   ...  ...   ...   ...   ...   ...\n",
      "306    HTRA_ECOLI  0.63  0.71  0.48  0.5  0.60  0.40  0.39    pp\n",
      "307    LIVJ_ECOLI  0.71  0.86  0.48  0.5  0.40  0.54  0.32    pp\n",
      "308    LIVK_ECOLI  0.68  0.78  0.48  0.5  0.43  0.44  0.42    pp\n",
      "309    MALE_ECOLI  0.64  0.84  0.48  0.5  0.37  0.45  0.40    pp\n",
      "310    MALM_ECOLI  0.74  0.47  0.48  0.5  0.50  0.57  0.42    pp\n",
      "311    MEPA_ECOLI  0.75  0.84  0.48  0.5  0.35  0.52  0.33    pp\n",
      "312    MODA_ECOLI  0.63  0.65  0.48  0.5  0.39  0.44  0.35    pp\n",
      "313    NRFA_ECOLI  0.69  0.67  0.48  0.5  0.30  0.39  0.24    pp\n",
      "314    NRFF_ECOLI  0.70  0.71  0.48  0.5  0.42  0.84  0.85    pp\n",
      "315    OPPA_ECOLI  0.69  0.80  0.48  0.5  0.46  0.57  0.26    pp\n",
      "316    OSMY_ECOLI  0.64  0.66  0.48  0.5  0.41  0.39  0.20    pp\n",
      "317    POTD_ECOLI  0.63  0.80  0.48  0.5  0.46  0.31  0.29    pp\n",
      "318    POTF_ECOLI  0.66  0.71  0.48  0.5  0.41  0.50  0.35    pp\n",
      "319     PPA_ECOLI  0.69  0.59  0.48  0.5  0.46  0.44  0.52    pp\n",
      "320     PPB_ECOLI  0.68  0.67  0.48  0.5  0.49  0.40  0.34    pp\n",
      "321    PROX_ECOLI  0.64  0.78  0.48  0.5  0.50  0.36  0.38    pp\n",
      "322    PSTS_ECOLI  0.62  0.78  0.48  0.5  0.47  0.49  0.54    pp\n",
      "323     PTR_ECOLI  0.76  0.73  0.48  0.5  0.44  0.39  0.39    pp\n",
      "324    RBSB_ECOLI  0.64  0.81  0.48  0.5  0.37  0.39  0.44    pp\n",
      "325    SPEA_ECOLI  0.29  0.39  0.48  0.5  0.52  0.40  0.48    pp\n",
      "326    SUBI_ECOLI  0.62  0.83  0.48  0.5  0.46  0.36  0.40    pp\n",
      "327    TBPA_ECOLI  0.56  0.54  0.48  0.5  0.43  0.37  0.30    pp\n",
      "328    TESA_ECOLI  0.69  0.66  0.48  0.5  0.41  0.50  0.25    pp\n",
      "329    TOLB_ECOLI  0.69  0.65  0.48  0.5  0.63  0.48  0.41    pp\n",
      "330    TORA_ECOLI  0.43  0.59  0.48  0.5  0.52  0.49  0.56    pp\n",
      "331    TREA_ECOLI  0.74  0.56  0.48  0.5  0.47  0.68  0.30    pp\n",
      "332    UGPB_ECOLI  0.71  0.57  0.48  0.5  0.48  0.35  0.32    pp\n",
      "333    USHA_ECOLI  0.61  0.60  0.48  0.5  0.44  0.39  0.38    pp\n",
      "334    XYLF_ECOLI  0.59  0.61  0.48  0.5  0.42  0.42  0.37    pp\n",
      "335    YTFQ_ECOLI  0.74  0.74  0.48  0.5  0.31  0.53  0.52    pp\n",
      "\n",
      "[336 rows x 9 columns]\n"
     ]
    }
   ],
   "source": [
    "import numpy as np\n",
    "import pandas as pd\n",
    "import matplotlib.pyplot as plt\n",
    "#loading the data from text file to the pandas dataframe\n",
    "df = pd.read_table('C:/Users/saikiran/Desktop/ecoli.txt', delim_whitespace=True, names=('Sequence Name', 'mcg', 'gvh', 'lip', 'chg', ' aac', 'alm1', 'alm2', 'class'))                  \n",
    "print(df)"
   ]
  },
  {
   "cell_type": "markdown",
   "metadata": {},
   "source": [
    "2.Finding the means of all the columns in the dataframe."
   ]
  },
  {
   "cell_type": "code",
   "execution_count": 2,
   "metadata": {},
   "outputs": [
    {
     "name": "stdout",
     "output_type": "stream",
     "text": [
      "mcg     0.500060\n",
      "gvh     0.500000\n",
      "lip     0.495476\n",
      "chg     0.501488\n",
      " aac    0.500030\n",
      "alm1    0.500179\n",
      "alm2    0.499732\n",
      "dtype: float64\n"
     ]
    }
   ],
   "source": [
    "mean = df.mean(axis=0)\n",
    "print(mean)\n",
    "\n"
   ]
  },
  {
   "cell_type": "markdown",
   "metadata": {},
   "source": [
    "3.Grouping the data frame using class column and finding the average (mean) of mcg, gvh, alm2 respective to each class type"
   ]
  },
  {
   "cell_type": "code",
   "execution_count": 3,
   "metadata": {},
   "outputs": [
    {
     "name": "stdout",
     "output_type": "stream",
     "text": [
      "            mcg       gvh      alm2\n",
      "class                              \n",
      "cp     0.363566  0.409720  0.395245\n",
      "im     0.478442  0.496623  0.730390\n",
      "imL    0.725000  0.470000  0.570000\n",
      "imS    0.740000  0.510000  0.570000\n",
      "imU    0.726000  0.458857  0.748000\n",
      "om     0.672500  0.710000  0.305500\n",
      "omL    0.698000  0.512000  0.222000\n",
      "pp     0.652115  0.699808  0.374423\n"
     ]
    }
   ],
   "source": [
    "data = df.groupby(['class'])['mcg','gvh','alm2'].mean()\n",
    "print(data)"
   ]
  },
  {
   "cell_type": "markdown",
   "metadata": {},
   "source": [
    "4.plotting the boxplot for the  average of mcg,gvh and alm2 for each class type"
   ]
  },
  {
   "cell_type": "code",
   "execution_count": 4,
   "metadata": {},
   "outputs": [
    {
     "data": {
      "image/png": "[encoded data removed]",
      "text/plain": [
       "<Figure size 432x288 with 4 Axes>"
      ]
     },
     "metadata": {},
     "output_type": "display_data"
    }
   ],
   "source": [
    "data.boxplot(column = (['mcg', 'gvh', 'alm2']), by = (['class']), grid=False, whis='range')\n",
    "plt.show()\n"
   ]
  },
  {
   "cell_type": "markdown",
   "metadata": {},
   "source": [
    "5.Finding the predicted line of mcg vs chg for 'im' class"
   ]
  },
  {
   "cell_type": "code",
   "execution_count": 5,
   "metadata": {},
   "outputs": [
    {
     "data": {
      "image/png": "[encoded data removed]",
      "text/plain": [
       "<Figure size 432x288 with 1 Axes>"
      ]
     },
     "metadata": {},
     "output_type": "display_data"
    }
   ],
   "source": [
    "data = df[['class','mcg','chg']].copy()\n",
    "#taking a copy of dataframe and matching the class name with 'im' in order to find the predicted line for that class\n",
    "df2 = data.loc[data['class']=='im']\n",
    "#solving for the linear regression and find the predicted line\n",
    "X = df2[['mcg']].values\n",
    "Y = df2[['chg']].values\n",
    "x_mean = np.mean(X)\n",
    "y_mean = np.mean(Y)\n",
    "#initializing the XY_total and X_total to compute beta0 and beta1 values\n",
    "XY_total = 0\n",
    "X_total = 0\n",
    "Y_Predict = []\n",
    "for i in range(len(X)):\n",
    "    #for each i in length of X it does the following operation\n",
    "    product = ((X[i] - x_mean) * (Y[i] - y_mean))\n",
    "    x_summation = ((X[i] - x_mean)**2)\n",
    "    XY_total = XY_total + product\n",
    "    X_total = X_total + x_summation\n",
    "\n",
    "beta1 = XY_total/X_total\n",
    "beta0 = (y_mean - (beta1 * x_mean))\n",
    "\n",
    "for i in range(len(X)):\n",
    "    Y_Predict = np.append(Y_Predict,(beta0 + (beta1 * X[i])))\n",
    "x = df2.mcg.values\n",
    "y = df2.chg.values\n",
    "\n",
    "\n",
    "plt.plot(x,y,'o',label=\"mcg-chg\")\n",
    "plt.plot(x,Y_Predict,'r',label = \"predicted\")\n",
    "plt.title(\"im class\")\n",
    "#Label the X and Y axes\n",
    "plt.xlabel(\"mcg\")\n",
    "plt.ylabel(\"chg\")\n",
    "plt.legend(bbox_to_anchor=(1.05, 1), loc=2, borderaxespad=0.)\n",
    "plt.show()\n",
    "\n",
    "\n"
   ]
  },
  {
   "cell_type": "markdown",
   "metadata": {},
   "source": [
    "6.Finding the predicted line of mcg vs chg for 'cp' class"
   ]
  },
  {
   "cell_type": "code",
   "execution_count": 6,
   "metadata": {},
   "outputs": [
    {
     "data": {
      "image/png": "[encoded data removed]",
      "text/plain": [
       "<Figure size 432x288 with 1 Axes>"
      ]
     },
     "metadata": {},
     "output_type": "display_data"
    }
   ],
   "source": [
    "data = df[['class','mcg','chg']].copy()\n",
    "#taking a copy of dataframe and matching the class name with 'cp' in order to find the predicted line for that class\n",
    "df2 = data.loc[data['class']=='cp']\n",
    "X = df2[['mcg']].values\n",
    "Y = df2[['chg']].values\n",
    "#solving for the linear regression and find the predicted line\n",
    "x_mean = np.mean(X)\n",
    "y_mean = np.mean(Y)\n",
    "#initializing the XY_total and X_total to compute beta0 and beta1 values\n",
    "XY_total = 0\n",
    "X_total = 0\n",
    "Y_Predict = []\n",
    "for i in range(len(X)):\n",
    "    #for each i in length of X it does the following operation\n",
    "    product = ((X[i] - x_mean) * (Y[i] - y_mean))\n",
    "    x_summation = ((X[i] - x_mean)**2)\n",
    "    XY_total = XY_total + product\n",
    "    X_total = X_total + x_summation\n",
    "\n",
    "beta1 = XY_total/X_total\n",
    "beta0 = (y_mean - (beta1 * x_mean))\n",
    "\n",
    "for i in range(len(X)):\n",
    "    Y_Predict = np.append(Y_Predict,(beta0 + (beta1 * X[i])))\n",
    "x = df2.mcg.values\n",
    "y = df2.chg.values\n",
    "\n",
    "\n",
    "plt.plot(x,y,'o',label=\"mcg-chg\")\n",
    "plt.plot(x,Y_Predict,'r',label = \"predicted\")\n",
    "plt.title(\"cp class\")\n",
    "#Label the X and Y axes\n",
    "plt.xlabel(\"mcg\")\n",
    "plt.ylabel(\"chg\")\n",
    "plt.legend(bbox_to_anchor=(1.05, 1), loc=2, borderaxespad=0.)\n",
    "plt.show()\n",
    "\n",
    "\n"
   ]
  },
  {
   "cell_type": "markdown",
   "metadata": {},
   "source": [
    "7.Finding the predicted line of mcg vs chg for 'imL' class"
   ]
  },
  {
   "cell_type": "code",
   "execution_count": 7,
   "metadata": {},
   "outputs": [
    {
     "data": {
      "image/png": "[encoded data removed]",
      "text/plain": [
       "<Figure size 432x288 with 1 Axes>"
      ]
     },
     "metadata": {},
     "output_type": "display_data"
    }
   ],
   "source": [
    "data = df[['class','mcg','chg']].copy()\n",
    "df2 = data.loc[data['class']=='imL']\n",
    "X = df2[['mcg']].values\n",
    "Y = df2[['chg']].values\n",
    "x_mean = np.mean(X)\n",
    "y_mean = np.mean(Y)\n",
    "#initializing the XY_total and X_total to compute beta0 and beta1 values\n",
    "XY_total = 0\n",
    "X_total = 0\n",
    "Y_Predict = []\n",
    "for i in range(len(X)):\n",
    "    #for each i in length of X it does the following operation\n",
    "    product = ((X[i] - x_mean) * (Y[i] - y_mean))\n",
    "    x_summation = ((X[i] - x_mean)**2)\n",
    "    XY_total = XY_total + product\n",
    "    X_total = X_total + x_summation\n",
    "\n",
    "beta1 = XY_total/X_total\n",
    "beta0 = (y_mean - (beta1 * x_mean))\n",
    "\n",
    "for i in range(len(X)):\n",
    "    Y_Predict = np.append(Y_Predict,(beta0 + (beta1 * X[i])))\n",
    "x = df2.mcg.values\n",
    "y = df2.chg.values\n",
    "\n",
    "\n",
    "plt.plot(x,y,'o',label=\"mcg-chg\")\n",
    "plt.plot(x,Y_Predict,'r',label = \"predicted\")\n",
    "plt.title(\"imL class\")\n",
    "#Label the X and Y axes\n",
    "plt.xlabel(\"mcg\")\n",
    "plt.ylabel(\"chg\")\n",
    "plt.legend(bbox_to_anchor=(1.05, 1), loc=2, borderaxespad=0.)\n",
    "plt.show()\n",
    "\n",
    "\n"
   ]
  },
  {
   "cell_type": "markdown",
   "metadata": {},
   "source": [
    "8.Finding the predicted line of mcg vs chg for 'imS' class"
   ]
  },
  {
   "cell_type": "code",
   "execution_count": 8,
   "metadata": {},
   "outputs": [
    {
     "data": {
      "image/png": "[encoded data removed]",
      "text/plain": [
       "<Figure size 432x288 with 1 Axes>"
      ]
     },
     "metadata": {},
     "output_type": "display_data"
    }
   ],
   "source": [
    "data = df[['class','mcg','chg']].copy()\n",
    "df2 = data.loc[data['class']=='imS']\n",
    "X = df2[['mcg']].values\n",
    "Y = df2[['chg']].values\n",
    "x_mean = np.mean(X)\n",
    "y_mean = np.mean(Y)\n",
    "#initializing the XY_total and X_total to compute beta0 and beta1 values\n",
    "XY_total = 0\n",
    "X_total = 0\n",
    "Y_Predict = []\n",
    "for i in range(len(X)):\n",
    "    #for each i in length of X it does the following operation\n",
    "    product = ((X[i] - x_mean) * (Y[i] - y_mean))\n",
    "    x_summation = ((X[i] - x_mean)**2)\n",
    "    XY_total = XY_total + product\n",
    "    X_total = X_total + x_summation\n",
    "\n",
    "beta1 = XY_total/X_total\n",
    "beta0 = (y_mean - (beta1 * x_mean))\n",
    "\n",
    "for i in range(len(X)):\n",
    "    Y_Predict = np.append(Y_Predict,(beta0 + (beta1 * X[i])))\n",
    "x = df2.mcg.values\n",
    "y = df2.chg.values\n",
    "\n",
    "\n",
    "plt.plot(x,y,'o',label=\"mcg-chg\")\n",
    "plt.plot(x,Y_Predict,'r',label = \"predicted\")\n",
    "plt.title(\"imS class\")\n",
    "#Label the X and Y axes\n",
    "plt.xlabel(\"mcg\")\n",
    "plt.ylabel(\"chg\")\n",
    "plt.legend(bbox_to_anchor=(1.05, 1), loc=2, borderaxespad=0.)\n",
    "plt.show()\n",
    "\n",
    "\n"
   ]
  },
  {
   "cell_type": "markdown",
   "metadata": {},
   "source": [
    "8.Finding the predicted line of mcg vs chg for 'imU' class"
   ]
  },
  {
   "cell_type": "code",
   "execution_count": 9,
   "metadata": {},
   "outputs": [
    {
     "data": {
      "image/png": "[encoded data removed]",
      "text/plain": [
       "<Figure size 432x288 with 1 Axes>"
      ]
     },
     "metadata": {},
     "output_type": "display_data"
    }
   ],
   "source": [
    "data = df[['class','mcg','chg']].copy()\n",
    "df2 = data.loc[data['class']=='imU']\n",
    "X = df2[['mcg']].values\n",
    "Y = df2[['chg']].values\n",
    "x_mean = np.mean(X)\n",
    "y_mean = np.mean(Y)\n",
    "#initializing the XY_total and X_total to compute beta0 and beta1 values\n",
    "XY_total = 0\n",
    "X_total = 0\n",
    "Y_Predict = []\n",
    "for i in range(len(X)):\n",
    "    #for each i in length of X it does the following operation\n",
    "    product = ((X[i] - x_mean) * (Y[i] - y_mean))\n",
    "    x_summation = ((X[i] - x_mean)**2)\n",
    "    XY_total = XY_total + product\n",
    "    X_total = X_total + x_summation\n",
    "\n",
    "beta1 = XY_total/X_total\n",
    "beta0 = (y_mean - (beta1 * x_mean))\n",
    "\n",
    "for i in range(len(X)):\n",
    "    Y_Predict = np.append(Y_Predict,(beta0 + (beta1 * X[i])))\n",
    "x = df2.mcg.values\n",
    "y = df2.chg.values\n",
    "\n",
    "\n",
    "plt.plot(x,y,'o',label=\"mcg-chg\")\n",
    "plt.plot(x,Y_Predict,'r',label = \"predicted\")\n",
    "plt.title(\"imU class\")\n",
    "#Label the X and Y axes\n",
    "plt.xlabel(\"mcg\")\n",
    "plt.ylabel(\"chg\")\n",
    "plt.legend(bbox_to_anchor=(1.05, 1), loc=2, borderaxespad=0.)\n",
    "plt.show()\n",
    "\n",
    "\n"
   ]
  },
  {
   "cell_type": "markdown",
   "metadata": {},
   "source": [
    "9.Finding the predicted line of mcg vs chg for 'om' class"
   ]
  },
  {
   "cell_type": "code",
   "execution_count": 10,
   "metadata": {},
   "outputs": [
    {
     "data": {
      "image/png": "[encoded data removed]",
      "text/plain": [
       "<Figure size 432x288 with 1 Axes>"
      ]
     },
     "metadata": {},
     "output_type": "display_data"
    }
   ],
   "source": [
    "data = df[['class','mcg','chg']].copy()\n",
    "df2 = data.loc[data['class']=='om']\n",
    "X = df2[['mcg']].values\n",
    "Y = df2[['chg']].values\n",
    "x_mean = np.mean(X)\n",
    "y_mean = np.mean(Y)\n",
    "#initializing the XY_total and X_total to compute beta0 and beta1 values\n",
    "XY_total = 0\n",
    "X_total = 0\n",
    "Y_Predict = []\n",
    "for i in range(len(X)):\n",
    "    #for each i in length of X it does the following operation\n",
    "    product = ((X[i] - x_mean) * (Y[i] - y_mean))\n",
    "    x_summation = ((X[i] - x_mean)**2)\n",
    "    XY_total = XY_total + product\n",
    "    X_total = X_total + x_summation\n",
    "\n",
    "beta1 = XY_total/X_total\n",
    "beta0 = (y_mean - (beta1 * x_mean))\n",
    "\n",
    "for i in range(len(X)):\n",
    "    Y_Predict = np.append(Y_Predict,(beta0 + (beta1 * X[i])))\n",
    "x = df2.mcg.values\n",
    "y = df2.chg.values\n",
    "\n",
    "\n",
    "plt.plot(x,y,'o',label=\"mcg-chg\")\n",
    "plt.plot(x,Y_Predict,'r',label = \"predicted\")\n",
    "plt.title(\"om class\")\n",
    "#Label the X and Y axes\n",
    "plt.xlabel(\"mcg\")\n",
    "plt.ylabel(\"chg\")\n",
    "plt.legend(bbox_to_anchor=(1.05, 1), loc=2, borderaxespad=0.)\n",
    "plt.show()\n",
    "\n",
    "\n"
   ]
  },
  {
   "cell_type": "markdown",
   "metadata": {},
   "source": [
    "10.Finding the predicted line of mcg vs chg for 'omL' class"
   ]
  },
  {
   "cell_type": "code",
   "execution_count": 11,
   "metadata": {},
   "outputs": [
    {
     "data": {
      "image/png": "[encoded data removed]",
      "text/plain": [
       "<Figure size 432x288 with 1 Axes>"
      ]
     },
     "metadata": {},
     "output_type": "display_data"
    }
   ],
   "source": [
    "data = df[['class','mcg','chg']].copy()\n",
    "df2 = data.loc[data['class']=='omL']\n",
    "X = df2[['mcg']].values\n",
    "Y = df2[['chg']].values\n",
    "x_mean = np.mean(X)\n",
    "y_mean = np.mean(Y)\n",
    "#initializing the XY_total and X_total to compute beta0 and beta1 values\n",
    "XY_total = 0\n",
    "X_total = 0\n",
    "Y_Predict = []\n",
    "for i in range(len(X)):\n",
    "    #for each i in length of X it does the following operation\n",
    "    product = ((X[i] - x_mean) * (Y[i] - y_mean))\n",
    "    x_summation = ((X[i] - x_mean)**2)\n",
    "    XY_total = XY_total + product\n",
    "    X_total = X_total + x_summation\n",
    "\n",
    "beta1 = XY_total/X_total\n",
    "beta0 = (y_mean - (beta1 * x_mean))\n",
    "\n",
    "for i in range(len(X)):\n",
    "    Y_Predict = np.append(Y_Predict,(beta0 + (beta1 * X[i])))\n",
    "x = df2.mcg.values\n",
    "y = df2.chg.values\n",
    "\n",
    "\n",
    "plt.plot(x,y,'o',label=\"mcg-chg\")\n",
    "plt.plot(x,Y_Predict,'r',label = \"predicted\")\n",
    "plt.title(\"omL class\")\n",
    "#Label the X and Y axes\n",
    "plt.xlabel(\"mcg\")\n",
    "plt.ylabel(\"chg\")\n",
    "plt.legend(bbox_to_anchor=(1.05, 1), loc=2, borderaxespad=0.)\n",
    "plt.show()\n",
    "\n",
    "\n"
   ]
  },
  {
   "cell_type": "markdown",
   "metadata": {},
   "source": [
    "11.Finding the predicted line of mcg vs chg for 'pp' class"
   ]
  },
  {
   "cell_type": "code",
   "execution_count": 12,
   "metadata": {},
   "outputs": [
    {
     "data": {
      "image/png": "[encoded data removed]",
      "text/plain": [
       "<Figure size 432x288 with 1 Axes>"
      ]
     },
     "metadata": {},
     "output_type": "display_data"
    }
   ],
   "source": [
    "data = df[['class','mcg','chg']].copy()\n",
    "df2 = data.loc[data['class']=='pp']\n",
    "X = df2[['mcg']].values\n",
    "Y = df2[['chg']].values\n",
    "x_mean = np.mean(X)\n",
    "y_mean = np.mean(Y)\n",
    "#initializing the XY_total and X_total to compute beta0 and beta1 values\n",
    "XY_total = 0\n",
    "X_total = 0\n",
    "Y_Predict = []\n",
    "for i in range(len(X)):\n",
    "    #for each i in length of X it does the following operation\n",
    "    product = ((X[i] - x_mean) * (Y[i] - y_mean))\n",
    "    x_summation = ((X[i] - x_mean)**2)\n",
    "    XY_total = XY_total + product\n",
    "    X_total = X_total + x_summation\n",
    "\n",
    "beta1 = XY_total/X_total\n",
    "beta0 = (y_mean - (beta1 * x_mean))\n",
    "\n",
    "for i in range(len(X)):\n",
    "    Y_Predict = np.append(Y_Predict,(beta0 + (beta1 * X[i])))\n",
    "x = df2.mcg.values\n",
    "y = df2.chg.values\n",
    "\n",
    "\n",
    "plt.plot(x,y,'o',label=\"mcg-chg\")\n",
    "plt.plot(x,Y_Predict,'r',label = \"predicted\")\n",
    "plt.title(\"pp class\")\n",
    "#Label the X and Y axes\n",
    "plt.xlabel(\"mcg\")\n",
    "plt.ylabel(\"chg\")\n",
    "plt.legend(bbox_to_anchor=(1.05, 1), loc=2, borderaxespad=0.)\n",
    "plt.show()\n",
    "\n",
    "\n"
   ]
  },
  {
   "cell_type": "code",
   "execution_count": null,
   "metadata": {},
   "outputs": [],
   "source": []
  }
 ],
 "metadata": {
  "kernelspec": {
   "display_name": "Python 3",
   "language": "python",
   "name": "python3"
  },
  "language_info": {
   "codemirror_mode": {
    "name": "ipython",
    "version": 3
   },
   "file_extension": ".py",
   "mimetype": "text/x-python",
   "name": "python",
   "nbconvert_exporter": "python",
   "pygments_lexer": "ipython3",
   "version": "3.5.5"
  }
 },
 "nbformat": 4,
 "nbformat_minor": 2
}
